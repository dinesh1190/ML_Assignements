{
  "nbformat": 4,
  "nbformat_minor": 0,
  "metadata": {
    "colab": {
      "provenance": [],
      "authorship_tag": "ABX9TyPcWnI1IMLnkuuFDVPxksJ1",
      "include_colab_link": true
    },
    "kernelspec": {
      "name": "python3",
      "display_name": "Python 3"
    },
    "language_info": {
      "name": "python"
    }
  },
  "cells": [
    {
      "cell_type": "markdown",
      "metadata": {
        "id": "view-in-github",
        "colab_type": "text"
      },
      "source": [
        "<a href=\"https://colab.research.google.com/github/SupriyaSingh1997/ML_Assignment/blob/main/Assignment_21.ipynb\" target=\"_parent\"><img src=\"https://colab.research.google.com/assets/colab-badge.svg\" alt=\"Open In Colab\"/></a>"
      ]
    },
    {
      "cell_type": "markdown",
      "source": [
        "1. What is the estimated depth of a Decision Tree trained (unrestricted) on a one million instance training set?\n",
        "\n",
        "\n",
        "The estimated depth of a decision tree trained on a one million instance training set can vary depending on various factors such as the complexity of the data, the number of features, and the hyperparameters used during training.\n",
        "\n",
        "In an unrestricted scenario, where there are no limitations on the depth of the tree, the depth of the decision tree can potentially grow to the number of instances in the training set. However, this is unlikely to be the case in practice due to regularization techniques and stopping criteria used to prevent overfitting.\n",
        "\n",
        "The depth of a decision tree is typically controlled by hyperparameters such as the maximum depth allowed, minimum samples required to split a node, or the maximum number of leaf nodes. These hyperparameters help to control the tree's complexity and prevent it from becoming too deep or overfitting the training data.\n",
        "\n",
        "Without specific information about the data and the hyperparameters used, it  is difficult to provide an exact estimated depth for a decision tree trained on a one million instance training set. The depth can vary widely depending on the factors mentioned earlier, and it would be determined during the training process."
      ],
      "metadata": {
        "id": "d295889iq1rF"
      }
    },
    {
      "cell_type": "markdown",
      "source": [
        "2. Is the Gini impurity of a node usually lower or higher than that of its parent? Is it always lower/greater, or is it usually lower/greater?\n",
        "\n",
        "The Gini impurity of a node in a decision tree can be either lower or higher than that of its parent, depending on the specific split and the distribution of the classes in the data.\n",
        "\n",
        "The Gini impurity is a measure of the node's impurity or the extent to which classes are mixed within the node. It ranges from 0 (pure node) to 1 (impure node). When splitting a node, the goal is to find the split that minimizes the impurity of the resulting child nodes.\n",
        "\n",
        "In some cases, a split can result in child nodes with lower Gini impurity compared to the parent node. This happens when the split effectively separates the instances into more homogeneous subsets, reducing the mixing of classes within each subset.\n",
        "\n",
        "However, it is not always the case that the Gini impurity of a node is lower than that of its parent. In certain situations, a split may increase the impurity of the resulting child nodes. This can occur when a suboptimal split is made or when the data has inherent noise or randomness that makes it difficult to find a split that consistently reduces impurity."
      ],
      "metadata": {
        "id": "6cYU-uiRq1nv"
      }
    },
    {
      "cell_type": "markdown",
      "source": [
        "3. Explain if its a good idea to reduce max depth if a Decision Tree is overfitting the training set?\n",
        "\n",
        "Yes, reducing the maximum depth of a decision tree can be a good idea if the tree is overfitting the training set. Overfitting occurs when the decision tree becomes too complex and captures noise or irrelevant patterns from the training data, resulting in poor generalization to unseen data.\n",
        "\n",
        "By reducing the maximum depth of the decision tree, you are effectively limiting the complexity and size of the tree. This helps prevent the tree from memorizing the training data and instead encourages it to capture more general and relevant patterns.\n",
        "\n",
        "When you decrease the maximum depth, the decision tree is forced to make more general and less detailed splits. This can help reduce the chances of overfitting by preventing the tree from capturing noise or idiosyncrasies present in the training data.\n",
        "\n",
        "Reducing the maximum depth is a form of regularization, which helps control the complexity of the model and prevent overfitting. It can improve the tree's ability to generalize to unseen data by promoting simpler and more interpretable decision rules.\n",
        "\n",
        "However, it's important to note that finding the optimal depth for a decision tree involves a trade-off. If you set the maximum depth too low, the tree may become too simple and underfit the data, leading to reduced predictive performance. Therefore, it's advisable to experiment with different depths and use techniques like cross-validation to select the appropriate maximum depth that balances between underfitting and overfitting."
      ],
      "metadata": {
        "id": "C8f1EjwMq1lZ"
      }
    },
    {
      "cell_type": "markdown",
      "source": [
        "4. Explain if its a good idea to try scaling the input features if a Decision Tree underfits the training set?\n",
        "\n",
        "Scaling the input features is generally not necessary or beneficial for decision trees. Decision trees make splits based on individual features, and the scaling of features does not affect the relative ordering of values within a feature. Therefore, decision trees are invariant to feature scaling.\n",
        "\n",
        "Unlike some other machine learning algorithms (e.g., gradient boosting or support vector machines), decision trees do not rely on distance metrics or feature interactions that may be affected by the scale of the features. Decision trees partition the feature space based on thresholds, and the scale of the features does not impact the decision boundaries.\n",
        "\n",
        "If a decision tree is underfitting the training set, scaling the input features is unlikely to address the issue. Instead, you should focus on other potential causes such as insufficient tree depth, limited feature representation, or insufficient training data.\n",
        "\n",
        "To improve the performance of an underfitting decision tree, you can consider the following strategies:\n",
        "\n",
        "Increase the depth of the decision tree: Allow the tree to capture more complex and detailed patterns in the data.\n",
        "Gather more training data: A larger training set can provide more information and improve the tree's ability to generalize.\n",
        "Add more informative features: Consider including additional relevant features that can enhance the decision tree's ability to discriminate between classes.\n",
        "Adjust hyperparameters: Explore different hyperparameter settings such as the minimum samples required to split a node or the minimum number of samples required at a leaf node.\n",
        "Ensemble methods: Combine multiple decision trees through ensemble methods like random forests or gradient boosting, which can enhance the model's predictive power.\n",
        "In summary, scaling the input features is not necessary for decision trees, and if a decision tree is underfitting, it's generally more effective to focus on other adjustments such as increasing tree depth, adding informative features, or modifying hyperparameters."
      ],
      "metadata": {
        "id": "Eba9noErq1jF"
      }
    },
    {
      "cell_type": "markdown",
      "source": [
        "5. How much time will it take to train another Decision Tree on a training set of 10 million instances if it takes an hour to train a Decision Tree on a training set with 1 million instances?\n",
        "\n",
        "The time required to train a decision tree on a dataset is dependent on various factors such as the complexity of the data, the number of features, the hardware resources available, and the implementation or algorithm used for training. Therefore, it is challenging to provide an exact estimation without additional information.\n",
        "\n",
        "However, assuming all other factors remain constant, we can make a rough estimation based on the increase in the size of the training set. If it takes approximately one hour to train a decision tree on a 1 million instance training set, we can estimate the time required to train a decision tree on a 10 million instance training set by considering the linear relationship between training time and the number of instances.\n",
        "\n",
        "In this case, we can approximate that training a decision tree on a 10 million instance training set would take approximately 10 times longer than training on a 1 million instance training set. Therefore, based on this rough estimate, it might take around 10 hours to train a decision tree on a 10 million instance training set, assuming all other factors remain constant."
      ],
      "metadata": {
        "id": "IKwTEZ1Jq1gf"
      }
    },
    {
      "cell_type": "markdown",
      "source": [
        "6. Will setting presort=True speed up training if your training set has 100,000 instances?\n",
        "\n",
        "The presort parameter in scikit-learn's decision tree implementation determines whether to presort the data for faster tree building. By default, presort is set to False, which means the data is not presorted.\n",
        "\n",
        "Enabling presort=True can potentially speed up training for small datasets, but it may not necessarily be beneficial or faster for a training set with 100,000 instances. Presorting the data involves sorting the features for each potential split point, which can be computationally expensive, especially for larger datasets.\n",
        "\n",
        "The decision of whether to use presort=True depends on the trade-off between the computational cost of presorting the data and the potential speedup during tree building. In practice, the decision is typically dependent on the dataset size and the available computational resources.\n",
        "\n",
        "For small datasets, presorting the data might provide a modest speed improvement during training. However, as the dataset size increases, the cost of presorting becomes more significant, and the speedup may be outweighed by the additional computational overhead.\n",
        "\n",
        "For small datasets, presorting the data might provide a modest speed improvement during training. However, as the dataset size increases, the cost of presorting becomes more significant, and the speedup may be outweighed by the additional computational overhead.\n",
        "\n",
        "Therefore, for a training set with 100,000 instances, it is unlikely that setting presort=True would result in a significant speed improvement. It is generally recommended to leave presort as the default (False) for datasets of that size."
      ],
      "metadata": {
        "id": "9Ye-6DxCq1d0"
      }
    },
    {
      "cell_type": "markdown",
      "source": [
        "7. Follow these steps to train and fine-tune a Decision Tree for the moons dataset:\n",
        "\n",
        "a. To build a moons dataset, use make moons(n samples=10000, noise=0.4).\n",
        "\n",
        "b. Divide the dataset into a training and a test collection with train test split().\n",
        "\n",
        "c. To find good hyperparameters values for a DecisionTreeClassifier, use grid search with cross-\n",
        "validation (with the GridSearchCV class). Try different values for max leaf nodes.\n",
        "\n",
        "d. Use these hyperparameters to train the model on the entire training set, and then assess its\n",
        "output on the test set. You can achieve an accuracy of 85 to 87 percent.\n",
        "\n",
        "Step 1: Import the necessary libraries\n",
        "\n",
        "from sklearn.datasets import make_moons\n",
        "from sklearn.model_selection import train_test_split, GridSearchCV\n",
        "from sklearn.tree import DecisionTreeClassifier\n",
        "from sklearn.metrics import accuracy_score\n",
        "Step 2: Generate the moons dataset\n",
        "\n",
        "X, y = make_moons(n_samples=10000, noise=0.4, random_state=42)\n",
        "\n",
        "Step 3: Split the dataset into training and testing sets\n",
        "\n",
        "X_train, X_test, y_train, y_test = train_test_split(X, y, test_size=0.2, random_state=42)\n",
        "Step 4: Define the hyperparameters for the grid search\n",
        "\n",
        "parameters = {'max_leaf_nodes': [None, 5, 10, 15, 20]}\n",
        "\n",
        "Step 5: Perform grid search with cross-validation to find the best hyperparameters\n",
        "\n",
        "tree = DecisionTreeClassifier(random_state=42)\n",
        "grid_search = GridSearchCV(tree, parameters, cv=5)\n",
        "grid_search.fit(X_train, y_train)\n",
        "Step 6: Get the best hyperparameters and train the model on the entire training set\n",
        "\n",
        "best_tree = grid_search.best_estimator_\n",
        "best_tree.fit(X_train, y_train)\n",
        "Step 7: Evaluate the model on the test set\n",
        "\n",
        "y_test_pred = best_tree.predict(X_test)\n",
        "test_accuracy = accuracy_score(y_test, y_test_pred)\n",
        "print(\"Test accuracy:\", test_accuracy)\n",
        "\n",
        "With the given steps, the model trained on the entire training set using the best hyperparameters obtained from the grid search should achieve an accuracy of approximately 85 to 87 percent on the test set."
      ],
      "metadata": {
        "id": "0fvedgpvsRcp"
      }
    },
    {
      "cell_type": "markdown",
      "source": [
        "8. Follow these steps to grow a forest:\n",
        "\n",
        "a. Using the same method as before, create 1,000 subsets of the training set, each containing\n",
        "100 instances chosen at random. You can do this with Scikit-ShuffleSplit Learn&#39;s class.\n",
        "\n",
        "b. Using the best hyperparameter values found in the previous exercise, train one Decision\n",
        "Tree on each subset. On the test collection, evaluate these 1,000 Decision Trees. These Decision\n",
        "\n",
        "Trees would likely perform worse than the first Decision Tree, achieving only around 80% accuracy,\n",
        "since they were trained on smaller sets.\n",
        "\n",
        "c. Now the magic begins. Create 1,000 Decision Tree predictions for each test set case, and\n",
        "keep only the most common prediction (you can do this with SciPy&#39;s mode() function). Over the test\n",
        "collection, this method gives you majority-vote predictions.\n",
        "\n",
        "d. On the test range, evaluate these predictions: you should achieve a slightly higher accuracy\n",
        "than the first model (approx 0.5 to 1.5 percent higher). You&#39;ve successfully learned a Random Forest\n",
        "classifier!\n",
        "\n",
        "Step 1: Import the necessary libraries\n",
        "\n",
        "import numpy as np\n",
        "from sklearn.datasets import make_moons\n",
        "from sklearn.model_selection import train_test_split, ShuffleSplit\n",
        "from sklearn.tree import DecisionTreeClassifier\n",
        "from scipy.stats import mode\n",
        "from sklearn.metrics import accuracy_score\n",
        "\n",
        "Step 2: Generate the moons dataset\n",
        "\n",
        "X, y = make_moons(n_samples=10000, noise=0.4, random_state=42)\n",
        "Step 3: Split the dataset into training and testing sets\n",
        "\n",
        "\n",
        "X_train, X_test, y_train, y_test = train_test_split(X, y, test_size=0.2, random_state=42)\n",
        "Step 4: Create subsets of the training set using ShuffleSplit\n",
        "\n",
        "n_subsets = 1000\n",
        "subset_size = 100\n",
        "shuffle_split = ShuffleSplit(n_splits=n_subsets, test_size=subset_size, random_state\n",
        "\n",
        "Step 5: Train Decision Trees on each subset and evaluate on the test set\n",
        "\n",
        "decision_trees = []\n",
        "for train_index, _ in shuffle_split.split(X_train):\n",
        "    subset_X_train, subset_y_train = X_train[train_index], y_train[train_index]\n",
        "    tree = DecisionTreeClassifier(max_leaf_nodes=best_tree.max_leaf_nodes, random_state=42)\n",
        "    tree.fit(subset_X_train, subset_y_train)\n",
        "    decision_trees.append(tree)\n",
        "\n",
        "# Evaluate individual Decision Trees on the test set\n",
        "predictions = np.empty((n_subsets, len(X_test)), dtype=np.int)\n",
        "for i, tree in enumerate(decision_trees):\n",
        "    predictions[i] = tree.predict(X_test)\n",
        "\n",
        "ensemble_predictions, _ = mode(predictions, axis=0)\n",
        "ensemble_accuracy = accuracy_score(y_test, ensemble_predictions)\n",
        "print(\"Random Forest accuracy:\", ensemble_accuracy)\n",
        "\n",
        "With these steps, you have successfully grown a random forest classifier. The individual decision trees are trained on subsets of the training set and evaluated on the test set. The mode function is used to determine the most common prediction for each test case, resulting in majority-vote predictions. The final accuracy of the random forest on the test set should be slightly higher (approximately 0.5 to 1.5 percent) than the accuracy of the individual decision tree trained on the entire training set."
      ],
      "metadata": {
        "id": "L1XmS-hSsRZS"
      }
    }
  ]
}